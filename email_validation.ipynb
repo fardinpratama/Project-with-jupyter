{
  "nbformat": 4,
  "nbformat_minor": 0,
  "metadata": {
    "kernelspec": {
      "display_name": "Python 3",
      "language": "python",
      "name": "python3"
    },
    "language_info": {
      "codemirror_mode": {
        "name": "ipython",
        "version": 3
      },
      "file_extension": ".py",
      "mimetype": "text/x-python",
      "name": "python",
      "nbconvert_exporter": "python",
      "pygments_lexer": "ipython3",
      "version": "3.7.6"
    },
    "colab": {
      "name": "email_validation.ipynb",
      "provenance": [],
      "include_colab_link": true
    }
  },
  "cells": [
    {
      "cell_type": "markdown",
      "metadata": {
        "id": "view-in-github",
        "colab_type": "text"
      },
      "source": [
        "<a href=\"https://colab.research.google.com/github/fardinpratama/Project-with-python/blob/master/email_validation.ipynb\" target=\"_parent\"><img src=\"https://colab.research.google.com/assets/colab-badge.svg\" alt=\"Open In Colab\"/></a>"
      ]
    },
    {
      "cell_type": "markdown",
      "metadata": {
        "id": "mtz9EHPmBC_a",
        "colab_type": "text"
      },
      "source": [
        "# Check Email Validation (Pass or Not Pass)\n",
        "<h4> Menggunakan Regular Expression </h4>"
      ]
    },
    {
      "cell_type": "code",
      "metadata": {
        "id": "8KOEUEFpBC_f",
        "colab_type": "code",
        "colab": {}
      },
      "source": [
        "#import library yang dibutuhkan\n",
        "import re\n",
        "import pandas as pd\n",
        "\n",
        "#function email_check\n",
        "def email_check(email):\n",
        "    regex = '^[a-zA-Z]\\w+[_a-z|.]?[0-9a-z]+[@][a-z]+(.com|.id)$'\n",
        "    if re.match(regex, email):\n",
        "        return \"Pass\"\n",
        "    else:\n",
        "        return \"Not Pass\"\n",
        "\n",
        "#Masukkan data email ke dalam list\n",
        "emails = [\n",
        "    'my-name@someemail.com', 'myname@somemeial.com',\n",
        "    'my.name@someemail.com','my.name2019@someemail.com',\n",
        "    'my.name.2019@someemail.com','somename.201903@someemail.com',\n",
        "    'my_name.201903@someemail.com','201903myname@someemail.com',\n",
        "    '201903.myname@someemail.com'\n",
        "]\n",
        "\n",
        "\n",
        "#Looping untuk pengecekan Pass atau Not Pass\n",
        "validation = []\n",
        "for val in emails:\n",
        "    validation.append(email_check(val))"
      ],
      "execution_count": 0,
      "outputs": []
    },
    {
      "cell_type": "code",
      "metadata": {
        "id": "Q7_FZQCFBC_r",
        "colab_type": "code",
        "colab": {
          "base_uri": "https://localhost:8080/",
          "height": 328
        },
        "outputId": "d7302467-f020-40f2-a991-629921057c87"
      },
      "source": [
        "data = {\"email\" : emails, \"validation\" : validation}\n",
        "df = pd.DataFrame(data, columns=list(data.keys()))\n",
        "df"
      ],
      "execution_count": 2,
      "outputs": [
        {
          "output_type": "execute_result",
          "data": {
            "text/html": [
              "<div>\n",
              "<style scoped>\n",
              "    .dataframe tbody tr th:only-of-type {\n",
              "        vertical-align: middle;\n",
              "    }\n",
              "\n",
              "    .dataframe tbody tr th {\n",
              "        vertical-align: top;\n",
              "    }\n",
              "\n",
              "    .dataframe thead th {\n",
              "        text-align: right;\n",
              "    }\n",
              "</style>\n",
              "<table border=\"1\" class=\"dataframe\">\n",
              "  <thead>\n",
              "    <tr style=\"text-align: right;\">\n",
              "      <th></th>\n",
              "      <th>email</th>\n",
              "      <th>validation</th>\n",
              "    </tr>\n",
              "  </thead>\n",
              "  <tbody>\n",
              "    <tr>\n",
              "      <th>0</th>\n",
              "      <td>my-name@someemail.com</td>\n",
              "      <td>Not Pass</td>\n",
              "    </tr>\n",
              "    <tr>\n",
              "      <th>1</th>\n",
              "      <td>myname@somemeial.com</td>\n",
              "      <td>Pass</td>\n",
              "    </tr>\n",
              "    <tr>\n",
              "      <th>2</th>\n",
              "      <td>my.name@someemail.com</td>\n",
              "      <td>Pass</td>\n",
              "    </tr>\n",
              "    <tr>\n",
              "      <th>3</th>\n",
              "      <td>my.name2019@someemail.com</td>\n",
              "      <td>Pass</td>\n",
              "    </tr>\n",
              "    <tr>\n",
              "      <th>4</th>\n",
              "      <td>my.name.2019@someemail.com</td>\n",
              "      <td>Not Pass</td>\n",
              "    </tr>\n",
              "    <tr>\n",
              "      <th>5</th>\n",
              "      <td>somename.201903@someemail.com</td>\n",
              "      <td>Pass</td>\n",
              "    </tr>\n",
              "    <tr>\n",
              "      <th>6</th>\n",
              "      <td>my_name.201903@someemail.com</td>\n",
              "      <td>Pass</td>\n",
              "    </tr>\n",
              "    <tr>\n",
              "      <th>7</th>\n",
              "      <td>201903myname@someemail.com</td>\n",
              "      <td>Not Pass</td>\n",
              "    </tr>\n",
              "    <tr>\n",
              "      <th>8</th>\n",
              "      <td>201903.myname@someemail.com</td>\n",
              "      <td>Not Pass</td>\n",
              "    </tr>\n",
              "  </tbody>\n",
              "</table>\n",
              "</div>"
            ],
            "text/plain": [
              "                           email validation\n",
              "0          my-name@someemail.com   Not Pass\n",
              "1           myname@somemeial.com       Pass\n",
              "2          my.name@someemail.com       Pass\n",
              "3      my.name2019@someemail.com       Pass\n",
              "4     my.name.2019@someemail.com   Not Pass\n",
              "5  somename.201903@someemail.com       Pass\n",
              "6   my_name.201903@someemail.com       Pass\n",
              "7     201903myname@someemail.com   Not Pass\n",
              "8    201903.myname@someemail.com   Not Pass"
            ]
          },
          "metadata": {
            "tags": []
          },
          "execution_count": 2
        }
      ]
    },
    {
      "cell_type": "code",
      "metadata": {
        "id": "NpYjez_IBC_2",
        "colab_type": "code",
        "colab": {}
      },
      "source": [
        ""
      ],
      "execution_count": 0,
      "outputs": []
    }
  ]
}