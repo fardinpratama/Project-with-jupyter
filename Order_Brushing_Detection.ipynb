{
  "nbformat": 4,
  "nbformat_minor": 0,
  "metadata": {
    "kernelspec": {
      "display_name": "Python 3",
      "language": "python",
      "name": "python3"
    },
    "language_info": {
      "codemirror_mode": {
        "name": "ipython",
        "version": 3
      },
      "file_extension": ".py",
      "mimetype": "text/x-python",
      "name": "python",
      "nbconvert_exporter": "python",
      "pygments_lexer": "ipython3",
      "version": "3.7.6"
    },
    "colab": {
      "name": "Order Brushing Detection.ipynb",
      "provenance": [],
      "include_colab_link": true
    }
  },
  "cells": [
    {
      "cell_type": "markdown",
      "metadata": {
        "id": "view-in-github",
        "colab_type": "text"
      },
      "source": [
        "<a href=\"https://colab.research.google.com/github/fardinpratama/Project-with-python/blob/master/Order_Brushing_Detection.ipynb\" target=\"_parent\"><img src=\"https://colab.research.google.com/assets/colab-badge.svg\" alt=\"Open In Colab\"/></a>"
      ]
    },
    {
      "cell_type": "markdown",
      "metadata": {
        "id": "zynuQbXLdADN",
        "colab_type": "text"
      },
      "source": [
        "<h1>Shopee Code League</h1>\n",
        "\n",
        "<h3>-- Order Brushing Detection --</h3>"
      ]
    },
    {
      "cell_type": "markdown",
      "metadata": {
        "id": "58UPE8tPdADS",
        "colab_type": "text"
      },
      "source": [
        "Order Brushing is a technique that can be used by sellers to make fake orders to improve seller rankings or certain items, which might encourage seller items to improve search results on Shopee.\n",
        "\n",
        "For this purpose, a shop that is considered to have ordered a brush if the concentrate level is greater than or equal to 3.\n",
        "\n",
        "<b>Concentrate rate = number of Order within 1 hour / number of unique buyers within 1 hour </b>\n",
        "\n",
        "Suspicious buyers are considered as buyers who contribute the highest order to stores that are considered to have committed orders."
      ]
    },
    {
      "cell_type": "code",
      "metadata": {
        "id": "0LwEtBHBdADV",
        "colab_type": "code",
        "colab": {}
      },
      "source": [
        "import pandas as pd\n",
        "import numpy as np\n",
        "from datetime import timedelta"
      ],
      "execution_count": 0,
      "outputs": []
    },
    {
      "cell_type": "code",
      "metadata": {
        "id": "0LrlVT73dADl",
        "colab_type": "code",
        "colab": {},
        "outputId": "c8f3ae38-1585-46f1-9458-61e5895283dc"
      },
      "source": [
        "df = pd.read_csv('order_brush_order.csv') \n",
        "df.head()"
      ],
      "execution_count": 0,
      "outputs": [
        {
          "output_type": "execute_result",
          "data": {
            "text/html": [
              "<div>\n",
              "<style scoped>\n",
              "    .dataframe tbody tr th:only-of-type {\n",
              "        vertical-align: middle;\n",
              "    }\n",
              "\n",
              "    .dataframe tbody tr th {\n",
              "        vertical-align: top;\n",
              "    }\n",
              "\n",
              "    .dataframe thead th {\n",
              "        text-align: right;\n",
              "    }\n",
              "</style>\n",
              "<table border=\"1\" class=\"dataframe\">\n",
              "  <thead>\n",
              "    <tr style=\"text-align: right;\">\n",
              "      <th></th>\n",
              "      <th>orderid</th>\n",
              "      <th>shopid</th>\n",
              "      <th>userid</th>\n",
              "      <th>event_time</th>\n",
              "    </tr>\n",
              "  </thead>\n",
              "  <tbody>\n",
              "    <tr>\n",
              "      <th>0</th>\n",
              "      <td>31076582227611</td>\n",
              "      <td>93950878</td>\n",
              "      <td>30530270</td>\n",
              "      <td>2019-12-27 00:23:03</td>\n",
              "    </tr>\n",
              "    <tr>\n",
              "      <th>1</th>\n",
              "      <td>31118059853484</td>\n",
              "      <td>156423439</td>\n",
              "      <td>46057927</td>\n",
              "      <td>2019-12-27 11:54:20</td>\n",
              "    </tr>\n",
              "    <tr>\n",
              "      <th>2</th>\n",
              "      <td>31123355095755</td>\n",
              "      <td>173699291</td>\n",
              "      <td>67341739</td>\n",
              "      <td>2019-12-27 13:22:35</td>\n",
              "    </tr>\n",
              "    <tr>\n",
              "      <th>3</th>\n",
              "      <td>31122059872723</td>\n",
              "      <td>63674025</td>\n",
              "      <td>149380322</td>\n",
              "      <td>2019-12-27 13:01:00</td>\n",
              "    </tr>\n",
              "    <tr>\n",
              "      <th>4</th>\n",
              "      <td>31117075665123</td>\n",
              "      <td>127249066</td>\n",
              "      <td>149493217</td>\n",
              "      <td>2019-12-27 11:37:55</td>\n",
              "    </tr>\n",
              "  </tbody>\n",
              "</table>\n",
              "</div>"
            ],
            "text/plain": [
              "          orderid     shopid     userid           event_time\n",
              "0  31076582227611   93950878   30530270  2019-12-27 00:23:03\n",
              "1  31118059853484  156423439   46057927  2019-12-27 11:54:20\n",
              "2  31123355095755  173699291   67341739  2019-12-27 13:22:35\n",
              "3  31122059872723   63674025  149380322  2019-12-27 13:01:00\n",
              "4  31117075665123  127249066  149493217  2019-12-27 11:37:55"
            ]
          },
          "metadata": {
            "tags": []
          },
          "execution_count": 118
        }
      ]
    },
    {
      "cell_type": "code",
      "metadata": {
        "id": "hMU5JlC7dAD0",
        "colab_type": "code",
        "colab": {},
        "outputId": "84f8078c-c761-4ec8-da35-8c51a948e70a"
      },
      "source": [
        "df.info()"
      ],
      "execution_count": 0,
      "outputs": [
        {
          "output_type": "stream",
          "text": [
            "<class 'pandas.core.frame.DataFrame'>\n",
            "RangeIndex: 222750 entries, 0 to 222749\n",
            "Data columns (total 4 columns):\n",
            " #   Column      Non-Null Count   Dtype \n",
            "---  ------      --------------   ----- \n",
            " 0   orderid     222750 non-null  int64 \n",
            " 1   shopid      222750 non-null  int64 \n",
            " 2   userid      222750 non-null  int64 \n",
            " 3   event_time  222750 non-null  object\n",
            "dtypes: int64(3), object(1)\n",
            "memory usage: 6.8+ MB\n"
          ],
          "name": "stdout"
        }
      ]
    },
    {
      "cell_type": "code",
      "metadata": {
        "id": "WO4N3K9kdAEA",
        "colab_type": "code",
        "colab": {},
        "outputId": "3297cfd1-aba9-4d80-f5ce-a79833bcb21b"
      },
      "source": [
        "#number of sellers\n",
        "len(df['shopid'].unique())"
      ],
      "execution_count": 0,
      "outputs": [
        {
          "output_type": "execute_result",
          "data": {
            "text/plain": [
              "18770"
            ]
          },
          "metadata": {
            "tags": []
          },
          "execution_count": 123
        }
      ]
    },
    {
      "cell_type": "code",
      "metadata": {
        "id": "zHeQqohMdAEM",
        "colab_type": "code",
        "colab": {}
      },
      "source": [
        "df['event_time'] = pd.to_datetime(df['event_time']) #converto to type Timestamp"
      ],
      "execution_count": 0,
      "outputs": []
    },
    {
      "cell_type": "code",
      "metadata": {
        "id": "IG7CdAMsdAEb",
        "colab_type": "code",
        "colab": {}
      },
      "source": [
        "shopid = []\n",
        "userid = []\n",
        "check = None\n",
        "for sellers in df['shopid'].unique():\n",
        "    seller = df.loc[df['shopid'] == sellers]\n",
        "    if len(seller) >= 3:\n",
        "        for key, val in seller.iterrows():\n",
        "            start_date = val['event_time']\n",
        "            end_date = start_date + timedelta(hours=1) #add 1 hour from the start time\n",
        "            # check the number of orders that occur during one hour\n",
        "            sub_seller = seller.loc[(seller['event_time'] >= start_date) & (seller['event_time'] <= end_date )]\n",
        "            rate = len(sub_seller)/len(sub_seller['userid'].unique()) # Concentrate rate formula\n",
        "            # a shop that is considered to have ordered a brush if the rate is greater than or equal to 3\n",
        "            if rate >= 3: \n",
        "                for user in sub_seller['userid'].unique():\n",
        "                    shopid.append(sellers) #put in a list of suspects\n",
        "                    userid.append(user) # #put in a list of suspects"
      ],
      "execution_count": 0,
      "outputs": []
    },
    {
      "cell_type": "code",
      "metadata": {
        "id": "B0_i20PqdAEm",
        "colab_type": "code",
        "colab": {}
      },
      "source": [
        "data = {'shopid':shopid, 'userid':userid} #get list of suspects\n",
        "for i in  set(df.set_index('shopid').drop(result['shopid'], axis=0).index):\n",
        "    data['shopid'].append(i) #put in a list of unsuspected\n",
        "    data['userid'].append(0) #put in a list of unsuspected"
      ],
      "execution_count": 0,
      "outputs": []
    },
    {
      "cell_type": "code",
      "metadata": {
        "id": "9zQfe_LTdAEy",
        "colab_type": "code",
        "colab": {}
      },
      "source": [
        "result= pd.DataFrame(data).sort_values('shopid') #create result in  dataFrame\n",
        "result['userid'] = result['userid'].apply(str) #convert to type string\n",
        "result.drop_duplicates(inplace=True, ignore_index=True) #romove same value \n",
        "result = result.groupby('shopid')['userid'].apply(' & '.join).reset_index() #separate the userid list that is more than 1"
      ],
      "execution_count": 0,
      "outputs": []
    },
    {
      "cell_type": "markdown",
      "metadata": {
        "id": "aeeJ9tt3dAE7",
        "colab_type": "text"
      },
      "source": [
        "list of sellers who are suspected of carrying out a binding order and their userID, value 0 is considered to be a store that does not order brushing"
      ]
    },
    {
      "cell_type": "code",
      "metadata": {
        "id": "bQllNr30dAE9",
        "colab_type": "code",
        "colab": {},
        "outputId": "33550f93-c9a1-46c5-ae4f-b04e4c9bbd78"
      },
      "source": [
        "result"
      ],
      "execution_count": 0,
      "outputs": [
        {
          "output_type": "execute_result",
          "data": {
            "text/html": [
              "<div>\n",
              "<style scoped>\n",
              "    .dataframe tbody tr th:only-of-type {\n",
              "        vertical-align: middle;\n",
              "    }\n",
              "\n",
              "    .dataframe tbody tr th {\n",
              "        vertical-align: top;\n",
              "    }\n",
              "\n",
              "    .dataframe thead th {\n",
              "        text-align: right;\n",
              "    }\n",
              "</style>\n",
              "<table border=\"1\" class=\"dataframe\">\n",
              "  <thead>\n",
              "    <tr style=\"text-align: right;\">\n",
              "      <th></th>\n",
              "      <th>shopid</th>\n",
              "      <th>userid</th>\n",
              "    </tr>\n",
              "  </thead>\n",
              "  <tbody>\n",
              "    <tr>\n",
              "      <th>0</th>\n",
              "      <td>10009</td>\n",
              "      <td>0</td>\n",
              "    </tr>\n",
              "    <tr>\n",
              "      <th>1</th>\n",
              "      <td>10051</td>\n",
              "      <td>0</td>\n",
              "    </tr>\n",
              "    <tr>\n",
              "      <th>2</th>\n",
              "      <td>10061</td>\n",
              "      <td>0</td>\n",
              "    </tr>\n",
              "    <tr>\n",
              "      <th>3</th>\n",
              "      <td>10084</td>\n",
              "      <td>0</td>\n",
              "    </tr>\n",
              "    <tr>\n",
              "      <th>4</th>\n",
              "      <td>10100</td>\n",
              "      <td>0</td>\n",
              "    </tr>\n",
              "    <tr>\n",
              "      <th>...</th>\n",
              "      <td>...</td>\n",
              "      <td>...</td>\n",
              "    </tr>\n",
              "    <tr>\n",
              "      <th>18765</th>\n",
              "      <td>214662358</td>\n",
              "      <td>0</td>\n",
              "    </tr>\n",
              "    <tr>\n",
              "      <th>18766</th>\n",
              "      <td>214949521</td>\n",
              "      <td>0</td>\n",
              "    </tr>\n",
              "    <tr>\n",
              "      <th>18767</th>\n",
              "      <td>214964814</td>\n",
              "      <td>0</td>\n",
              "    </tr>\n",
              "    <tr>\n",
              "      <th>18768</th>\n",
              "      <td>215175775</td>\n",
              "      <td>0</td>\n",
              "    </tr>\n",
              "    <tr>\n",
              "      <th>18769</th>\n",
              "      <td>215435223</td>\n",
              "      <td>0</td>\n",
              "    </tr>\n",
              "  </tbody>\n",
              "</table>\n",
              "<p>18770 rows × 2 columns</p>\n",
              "</div>"
            ],
            "text/plain": [
              "          shopid userid\n",
              "0          10009      0\n",
              "1          10051      0\n",
              "2          10061      0\n",
              "3          10084      0\n",
              "4          10100      0\n",
              "...          ...    ...\n",
              "18765  214662358      0\n",
              "18766  214949521      0\n",
              "18767  214964814      0\n",
              "18768  215175775      0\n",
              "18769  215435223      0\n",
              "\n",
              "[18770 rows x 2 columns]"
            ]
          },
          "metadata": {
            "tags": []
          },
          "execution_count": 112
        }
      ]
    },
    {
      "cell_type": "code",
      "metadata": {
        "id": "tLWM0J17dAFL",
        "colab_type": "code",
        "colab": {},
        "outputId": "391de518-3ff8-4ceb-cdd8-f6a7f36bba1f"
      },
      "source": [
        "#list of sellers who are suspected \n",
        "result[result['userid'] != '0']"
      ],
      "execution_count": 0,
      "outputs": [
        {
          "output_type": "execute_result",
          "data": {
            "text/html": [
              "<div>\n",
              "<style scoped>\n",
              "    .dataframe tbody tr th:only-of-type {\n",
              "        vertical-align: middle;\n",
              "    }\n",
              "\n",
              "    .dataframe tbody tr th {\n",
              "        vertical-align: top;\n",
              "    }\n",
              "\n",
              "    .dataframe thead th {\n",
              "        text-align: right;\n",
              "    }\n",
              "</style>\n",
              "<table border=\"1\" class=\"dataframe\">\n",
              "  <thead>\n",
              "    <tr style=\"text-align: right;\">\n",
              "      <th></th>\n",
              "      <th>shopid</th>\n",
              "      <th>userid</th>\n",
              "    </tr>\n",
              "  </thead>\n",
              "  <tbody>\n",
              "    <tr>\n",
              "      <th>40</th>\n",
              "      <td>10402</td>\n",
              "      <td>77819</td>\n",
              "    </tr>\n",
              "    <tr>\n",
              "      <th>57</th>\n",
              "      <td>10536</td>\n",
              "      <td>672345</td>\n",
              "    </tr>\n",
              "    <tr>\n",
              "      <th>111</th>\n",
              "      <td>42472</td>\n",
              "      <td>740844</td>\n",
              "    </tr>\n",
              "    <tr>\n",
              "      <th>114</th>\n",
              "      <td>42818</td>\n",
              "      <td>170385453</td>\n",
              "    </tr>\n",
              "    <tr>\n",
              "      <th>129</th>\n",
              "      <td>76934</td>\n",
              "      <td>190449497</td>\n",
              "    </tr>\n",
              "    <tr>\n",
              "      <th>...</th>\n",
              "      <td>...</td>\n",
              "      <td>...</td>\n",
              "    </tr>\n",
              "    <tr>\n",
              "      <th>17401</th>\n",
              "      <td>203531250</td>\n",
              "      <td>114282846</td>\n",
              "    </tr>\n",
              "    <tr>\n",
              "      <th>17960</th>\n",
              "      <td>204225676</td>\n",
              "      <td>198662175</td>\n",
              "    </tr>\n",
              "    <tr>\n",
              "      <th>18155</th>\n",
              "      <td>208696908</td>\n",
              "      <td>214111334</td>\n",
              "    </tr>\n",
              "    <tr>\n",
              "      <th>18557</th>\n",
              "      <td>210197928</td>\n",
              "      <td>52867898</td>\n",
              "    </tr>\n",
              "    <tr>\n",
              "      <th>18704</th>\n",
              "      <td>213141071</td>\n",
              "      <td>213646699</td>\n",
              "    </tr>\n",
              "  </tbody>\n",
              "</table>\n",
              "<p>276 rows × 2 columns</p>\n",
              "</div>"
            ],
            "text/plain": [
              "          shopid     userid\n",
              "40         10402      77819\n",
              "57         10536     672345\n",
              "111        42472     740844\n",
              "114        42818  170385453\n",
              "129        76934  190449497\n",
              "...          ...        ...\n",
              "17401  203531250  114282846\n",
              "17960  204225676  198662175\n",
              "18155  208696908  214111334\n",
              "18557  210197928   52867898\n",
              "18704  213141071  213646699\n",
              "\n",
              "[276 rows x 2 columns]"
            ]
          },
          "metadata": {
            "tags": []
          },
          "execution_count": 109
        }
      ]
    },
    {
      "cell_type": "code",
      "metadata": {
        "id": "Xd6zmW_cdAFY",
        "colab_type": "code",
        "colab": {},
        "outputId": "6ea94788-335f-4cc9-a617-7c46f2243bef"
      },
      "source": [
        "#list of suspected sellers with more than 1 userid\n",
        "result[result['userid'].str.contains('&')]"
      ],
      "execution_count": 0,
      "outputs": [
        {
          "output_type": "execute_result",
          "data": {
            "text/html": [
              "<div>\n",
              "<style scoped>\n",
              "    .dataframe tbody tr th:only-of-type {\n",
              "        vertical-align: middle;\n",
              "    }\n",
              "\n",
              "    .dataframe tbody tr th {\n",
              "        vertical-align: top;\n",
              "    }\n",
              "\n",
              "    .dataframe thead th {\n",
              "        text-align: right;\n",
              "    }\n",
              "</style>\n",
              "<table border=\"1\" class=\"dataframe\">\n",
              "  <thead>\n",
              "    <tr style=\"text-align: right;\">\n",
              "      <th></th>\n",
              "      <th>shopid</th>\n",
              "      <th>userid</th>\n",
              "    </tr>\n",
              "  </thead>\n",
              "  <tbody>\n",
              "    <tr>\n",
              "      <th>344</th>\n",
              "      <td>823357</td>\n",
              "      <td>133545410 &amp; 188942105</td>\n",
              "    </tr>\n",
              "    <tr>\n",
              "      <th>990</th>\n",
              "      <td>8996761</td>\n",
              "      <td>13135622 &amp; 162508227 &amp; 137245836 &amp; 215382704 &amp;...</td>\n",
              "    </tr>\n",
              "    <tr>\n",
              "      <th>1474</th>\n",
              "      <td>16001939</td>\n",
              "      <td>205729485 &amp; 1024838</td>\n",
              "    </tr>\n",
              "    <tr>\n",
              "      <th>3189</th>\n",
              "      <td>51134277</td>\n",
              "      <td>29857724 &amp; 212200633</td>\n",
              "    </tr>\n",
              "    <tr>\n",
              "      <th>3341</th>\n",
              "      <td>54257623</td>\n",
              "      <td>1974334 &amp; 107414154</td>\n",
              "    </tr>\n",
              "    <tr>\n",
              "      <th>3911</th>\n",
              "      <td>64394533</td>\n",
              "      <td>92111793 &amp; 194833170</td>\n",
              "    </tr>\n",
              "    <tr>\n",
              "      <th>5955</th>\n",
              "      <td>98481320</td>\n",
              "      <td>96474917 &amp; 124597967</td>\n",
              "    </tr>\n",
              "    <tr>\n",
              "      <th>8621</th>\n",
              "      <td>136564914</td>\n",
              "      <td>178491887 &amp; 191211430</td>\n",
              "    </tr>\n",
              "    <tr>\n",
              "      <th>9045</th>\n",
              "      <td>143281052</td>\n",
              "      <td>99517130 &amp; 186080843</td>\n",
              "    </tr>\n",
              "    <tr>\n",
              "      <th>9208</th>\n",
              "      <td>145777302</td>\n",
              "      <td>107406 &amp; 101582282 &amp; 201343856</td>\n",
              "    </tr>\n",
              "    <tr>\n",
              "      <th>9844</th>\n",
              "      <td>155143347</td>\n",
              "      <td>214265994 &amp; 156202149</td>\n",
              "    </tr>\n",
              "    <tr>\n",
              "      <th>10024</th>\n",
              "      <td>156883302</td>\n",
              "      <td>188025647 &amp; 62035438 &amp; 76102350 &amp; 187119675</td>\n",
              "    </tr>\n",
              "    <tr>\n",
              "      <th>13770</th>\n",
              "      <td>175531295</td>\n",
              "      <td>187697407 &amp; 215009429</td>\n",
              "    </tr>\n",
              "    <tr>\n",
              "      <th>14051</th>\n",
              "      <td>181009364</td>\n",
              "      <td>101832161 &amp; 214208720</td>\n",
              "    </tr>\n",
              "  </tbody>\n",
              "</table>\n",
              "</div>"
            ],
            "text/plain": [
              "          shopid                                             userid\n",
              "344       823357                              133545410 & 188942105\n",
              "990      8996761  13135622 & 162508227 & 137245836 & 215382704 &...\n",
              "1474    16001939                                205729485 & 1024838\n",
              "3189    51134277                               29857724 & 212200633\n",
              "3341    54257623                                1974334 & 107414154\n",
              "3911    64394533                               92111793 & 194833170\n",
              "5955    98481320                               96474917 & 124597967\n",
              "8621   136564914                              178491887 & 191211430\n",
              "9045   143281052                               99517130 & 186080843\n",
              "9208   145777302                     107406 & 101582282 & 201343856\n",
              "9844   155143347                              214265994 & 156202149\n",
              "10024  156883302        188025647 & 62035438 & 76102350 & 187119675\n",
              "13770  175531295                              187697407 & 215009429\n",
              "14051  181009364                              101832161 & 214208720"
            ]
          },
          "metadata": {
            "tags": []
          },
          "execution_count": 125
        }
      ]
    },
    {
      "cell_type": "code",
      "metadata": {
        "id": "MOpQj8PmdAFj",
        "colab_type": "code",
        "colab": {}
      },
      "source": [
        ""
      ],
      "execution_count": 0,
      "outputs": []
    }
  ]
}